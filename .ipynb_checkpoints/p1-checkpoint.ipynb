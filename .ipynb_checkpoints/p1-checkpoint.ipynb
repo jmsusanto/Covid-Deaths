{
 "cells": [
  {
   "cell_type": "code",
   "execution_count": 24,
   "id": "cf745c88-9df0-425b-89bc-624d3260d539",
   "metadata": {},
   "outputs": [],
   "source": [
    "import pandas as pd\n",
    "import torch\n",
    "import numpy as np\n",
    "from matplotlib import pyplot as plt\n",
    "import time\n",
    "from sklearn.model_selection import train_test_split\n",
    "from sklearn.tree import DecisionTreeRegressor\n",
    "from sklearn.ensemble import RandomForestRegressor\n",
    "from sklearn.metrics import mean_squared_error\n",
    "plt.style.use('ggplot')\n",
    "plt.rcParams[\"figure.figsize\"] = (15, 8)"
   ]
  },
  {
   "cell_type": "markdown",
   "id": "ffa0bea9",
   "metadata": {},
   "source": [
    "### Basic Evaluation Functions"
   ]
  },
  {
   "cell_type": "code",
   "execution_count": 2,
   "id": "d8fe8920",
   "metadata": {},
   "outputs": [],
   "source": [
    "def r2_score(testY, predictedY):\n",
    "    testYMean = testY.mean()\n",
    "    SStot = sum((testY - testYMean)**2)\n",
    "    SSreg = sum((testY - predictedY)**2)\n",
    "    improvement = SStot - SSreg\n",
    "    return (improvement / SStot).item()"
   ]
  },
  {
   "cell_type": "markdown",
   "id": "86a27a85",
   "metadata": {},
   "source": [
    "### Loading in Data"
   ]
  },
  {
   "cell_type": "code",
   "execution_count": 3,
   "id": "65fb46bc",
   "metadata": {},
   "outputs": [
    {
     "name": "stdout",
     "output_type": "stream",
     "text": [
      "Length of Training Set:  1044\n",
      "Length of Test Set:  348\n"
     ]
    }
   ],
   "source": [
    "train = pd.read_csv(\"train.csv\") # reading in train data\n",
    "test = pd.read_csv(\"test.csv\") # reading in test data \n",
    "data = pd.concat([train, test])\n",
    "trainY = torch.tensor(train[[\"DTH_CUM_CP\"]].values, dtype=torch.float64)\n",
    "trainX = torch.tensor(train.loc[:, ~train.columns.isin([\"DTH_CUM_CP\"])].values.astype(np.float32), dtype=torch.float64)\n",
    "testY = torch.tensor(test[[\"DTH_CUM_CP\"]].values, dtype=torch.float64)\n",
    "testX = torch.tensor(test.loc[:, ~test.columns.isin([\"DTH_CUM_CP\"])].values, dtype=torch.float64)\n",
    "print(\"Length of Training Set: \", len(trainX))\n",
    "print(\"Length of Test Set: \", len(testX))"
   ]
  },
  {
   "cell_type": "markdown",
   "id": "6f7324a2-72a3-481c-8f75-892be23b6ec0",
   "metadata": {},
   "source": [
    "## Exploring Various Machine Learning Models"
   ]
  },
  {
   "cell_type": "markdown",
   "id": "4762c75a",
   "metadata": {},
   "source": [
    "### Hardcoded Model"
   ]
  },
  {
   "cell_type": "code",
   "execution_count": 4,
   "id": "13db5e8a",
   "metadata": {},
   "outputs": [
    {
     "name": "stdout",
     "output_type": "stream",
     "text": [
      "R2 Score: 0.411\n",
      "MSE: 39.71\n"
     ]
    }
   ],
   "source": [
    "if torch.cuda.is_available():\n",
    "    print(\"Now running on GPU\")\n",
    "    testX = testX.to(\"cuda\")\n",
    "    testY = testY.to(\"cuda\")\n",
    "    trainX = trainX.to(\"cuda\")\n",
    "    trainY = trainY.to(\"cuda\")\n",
    "    \n",
    "coef = torch.tensor([   # The assumption is that death rate of covid is higher for people of older age\n",
    "        [0.0040], # the death rate in age group 1 is 0.4%\n",
    "        [0.0040],\n",
    "        [0.0040],\n",
    "        [0.0040],\n",
    "        [0.0040],\n",
    "        [0.0040], # POS_50_59_CP\n",
    "        [0.0300], # POS_60_69_CP\n",
    "        [0.0300],\n",
    "        [0.0300],\n",
    "        [0.0300]\n",
    "], dtype=testX.dtype)\n",
    "\n",
    "resultOne = testX[0] @ coef # predicted number of deaths in the first census tract  \n",
    "predictedY = testX @ coef\n",
    "print(\"R2 Score:\", round(r2_score(testY, predictedY), 3))\n",
    "print(\"MSE:\", round(mean_squared_error(testY, predictedY), 3))"
   ]
  },
  {
   "cell_type": "markdown",
   "id": "696760dd-a13b-40ce-8f4c-429374594ae7",
   "metadata": {},
   "source": [
    "### Linear Regression Model"
   ]
  },
  {
   "cell_type": "code",
   "execution_count": 5,
   "id": "e984d678-a376-4da7-8b8e-e2f1ed4b53c0",
   "metadata": {
    "scrolled": true
   },
   "outputs": [
    {
     "name": "stdout",
     "output_type": "stream",
     "text": [
      "Training took 1.8601210117340088 seconds\n",
      "R2 Score: 0.525\n",
      "MSE: 32.012\n"
     ]
    }
   ],
   "source": [
    "trainX = trainX.type(torch.float32)\n",
    "trainY = trainY.type(torch.float32)\n",
    "testX = testX.type(torch.float32)\n",
    "testY = testY.type(torch.float32)\n",
    "\n",
    "ds = torch.utils.data.TensorDataset(trainX, trainY) # tensor dataset\n",
    "dl = torch.utils.data.DataLoader(ds, batch_size = 40, shuffle=True) # tensor dataloader\n",
    "model = torch.nn.Linear(10, 1) # 10 age groups -> 10 in features, 1 out feature\n",
    "optimizer = torch.optim.SGD([model.weight, model.bias], lr=0.000001)\n",
    "loss_function = torch.nn.MSELoss()\n",
    "\n",
    "start = time.time()\n",
    "for epoch in range(200):\n",
    "    for batchX, batchY in dl:\n",
    "        predY = model(batchX) # Use the model to make predictions for this batch.\n",
    "        loss = loss_function(batchY, predY) # Calculate the loss between the true values and the predictions.\n",
    "        loss.backward() # Backpropagate the gradients. This calculates the gradient of the loss with respect to each parameter.\n",
    "        optimizer.step() # Update the parameters. This applies the calculated gradients to the parameters, improving the model.\n",
    "        optimizer.zero_grad() # Zero the gradients. This is necessary because PyTorch accumulates gradients, so they need to be reset each time.\n",
    "\n",
    "end = time.time()\n",
    "print(\"Training took\", end-start, \"seconds\")\n",
    "pred = model(testX)\n",
    "print(\"R2 Score:\", round(r2_score(testY, pred), 3))\n",
    "print(\"MSE:\", round(mean_squared_error(testY.tolist(), pred.tolist()), 3))"
   ]
  },
  {
   "cell_type": "markdown",
   "id": "d8f81e79",
   "metadata": {},
   "source": [
    "### Decision Tree"
   ]
  },
  {
   "cell_type": "code",
   "execution_count": 23,
   "id": "db3ea7d6-ce61-40c6-846c-13b194a0970d",
   "metadata": {},
   "outputs": [
    {
     "name": "stdout",
     "output_type": "stream",
     "text": [
      "R2 Score: 0.444\n",
      "MSE: 41.909\n"
     ]
    }
   ],
   "source": [
    "X = data.drop('DTH_CUM_CP', axis=1)\n",
    "Y = data['DTH_CUM_CP']\n",
    "X_train, X_test, Y_train, Y_test = train_test_split(X, Y, test_size=0.2, random_state=32)\n",
    "model_tree = DecisionTreeRegressor(max_depth=5)\n",
    "model_tree.fit(X_train, Y_train)\n",
    "pred = model_tree.predict(X_test)\n",
    "print(\"R2 Score:\", round(model_tree.score(X_test, Y_test), 3))\n",
    "print(\"MSE:\", round(mean_squared_error(Y_test, pred), 3))"
   ]
  },
  {
   "cell_type": "markdown",
   "id": "b2d623f6",
   "metadata": {},
   "source": [
    "### Random Forest"
   ]
  },
  {
   "cell_type": "code",
   "execution_count": 51,
   "id": "8d6221c3",
   "metadata": {
    "scrolled": true
   },
   "outputs": [
    {
     "name": "stdout",
     "output_type": "stream",
     "text": [
      "R2 Score: 0.583\n",
      "MSE: 31.387\n"
     ]
    }
   ],
   "source": [
    "model_forest = RandomForestRegressor(n_estimators=100,max_depth=10)\n",
    "model_forest.fit(X_train, Y_train)\n",
    "pred = model_forest.predict(X_test)\n",
    "print(\"R2 Score:\", round(model_forest.score(X_test, Y_test), 3))\n",
    "print(\"MSE:\", round(mean_squared_error(Y_test, pred), 3))"
   ]
  },
  {
   "cell_type": "code",
   "execution_count": 50,
   "id": "501b2e13",
   "metadata": {
    "scrolled": true
   },
   "outputs": [
    {
     "data": {
      "text/plain": [
       "2"
      ]
     },
     "execution_count": 50,
     "metadata": {},
     "output_type": "execute_result"
    }
   ],
   "source": []
  },
  {
   "cell_type": "code",
   "execution_count": null,
   "id": "adaec9bf",
   "metadata": {},
   "outputs": [],
   "source": []
  },
  {
   "cell_type": "code",
   "execution_count": null,
   "id": "f547cb06",
   "metadata": {},
   "outputs": [],
   "source": []
  },
  {
   "cell_type": "code",
   "execution_count": null,
   "id": "463a3671",
   "metadata": {},
   "outputs": [],
   "source": []
  }
 ],
 "metadata": {
  "kernelspec": {
   "display_name": "Python 3",
   "language": "python",
   "name": "python3"
  },
  "language_info": {
   "codemirror_mode": {
    "name": "ipython",
    "version": 3
   },
   "file_extension": ".py",
   "mimetype": "text/x-python",
   "name": "python",
   "nbconvert_exporter": "python",
   "pygments_lexer": "ipython3",
   "version": "3.8.8"
  }
 },
 "nbformat": 4,
 "nbformat_minor": 5
}
