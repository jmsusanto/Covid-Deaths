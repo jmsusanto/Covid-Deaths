{
 "cells": [
  {
   "cell_type": "code",
   "execution_count": 1,
   "id": "cf745c88-9df0-425b-89bc-624d3260d539",
   "metadata": {},
   "outputs": [],
   "source": [
    "import pandas as pd\n",
    "import torch\n",
    "import numpy as np\n",
    "from matplotlib import pyplot as plt\n",
    "import time\n",
    "plt.style.use('ggplot')\n",
    "plt.rcParams[\"figure.figsize\"] = (15, 8)"
   ]
  },
  {
   "cell_type": "markdown",
   "id": "6f7324a2-72a3-481c-8f75-892be23b6ec0",
   "metadata": {},
   "source": [
    "## Part 1: Prediction with Hardcoded Model"
   ]
  },
  {
   "cell_type": "code",
   "execution_count": 2,
   "id": "55f45f45-5822-4737-bb73-36e90979888d",
   "metadata": {},
   "outputs": [
    {
     "data": {
      "text/plain": [
       "9.844"
      ]
     },
     "execution_count": 2,
     "metadata": {},
     "output_type": "execute_result"
    }
   ],
   "source": [
    "train = pd.read_csv(\"train.csv\")\n",
    "test = pd.read_csv(\"test.csv\")\n",
    "trainY = torch.tensor(train[[\"DTH_CUM_CP\"]].values, dtype=torch.float64)\n",
    "trainX = torch.tensor(train.loc[:, ~train.columns.isin([\"DTH_CUM_CP\"])].values.astype(np.float32), dtype=torch.float64)\n",
    "testY = torch.tensor(test[[\"DTH_CUM_CP\"]].values, dtype=torch.float64)\n",
    "testX = torch.tensor(test.loc[:, ~test.columns.isin([\"DTH_CUM_CP\"])].values, dtype=torch.float64)\n",
    "\n",
    "if torch.cuda.is_available():\n",
    "    print(\"Now running on GPU\")\n",
    "    testX = testX.to(\"cuda\")\n",
    "    testY = testY.to(\"cuda\")\n",
    "    trainX = trainX.to(\"cuda\")\n",
    "    trainY = trainY.to(\"cuda\")\n",
    "    \n",
    "coef = torch.tensor([\n",
    "        [0.0040],\n",
    "        [0.0040],\n",
    "        [0.0040],\n",
    "        [0.0040],\n",
    "        [0.0040],\n",
    "        [0.0040], # POS_50_59_CP\n",
    "        [0.0300], # POS_60_69_CP\n",
    "        [0.0300],\n",
    "        [0.0300],\n",
    "        [0.0300]\n",
    "], dtype=testX.dtype)\n",
    "\n",
    "resultOne = testX[0] @ coef\n",
    "resultOne.item()"
   ]
  },
  {
   "cell_type": "markdown",
   "id": "a9183c16-03bb-4225-b29b-f6014fd7e739",
   "metadata": {},
   "source": [
    "## Part 2: R^2 Score"
   ]
  },
  {
   "cell_type": "code",
   "execution_count": 3,
   "id": "57a84a3e-e2eb-4dbf-a8f0-33d9ccc88b8b",
   "metadata": {},
   "outputs": [
    {
     "data": {
      "text/plain": [
       "0.4110350328841712"
      ]
     },
     "execution_count": 3,
     "metadata": {},
     "output_type": "execute_result"
    }
   ],
   "source": [
    "def r2_score(testY, predictedY):\n",
    "    testYMean = testY.mean()\n",
    "    SStot = sum((testY - testYMean)**2)\n",
    "    SSreg = sum((testY - predictedY)**2)\n",
    "    improvement = SStot - SSreg\n",
    "    return (improvement / SStot).item()\n",
    "\n",
    "predictedY = testX @ coef\n",
    "r2_score(testY, predictedY)\n"
   ]
  },
  {
   "cell_type": "markdown",
   "id": "d2386975-651d-4a2b-b8bc-d84099ec60e3",
   "metadata": {},
   "source": [
    "## Part 3: Optimization"
   ]
  },
  {
   "cell_type": "code",
   "execution_count": 4,
   "id": "acc65361-e418-4362-bd73-6465d53a1ece",
   "metadata": {},
   "outputs": [
    {
     "name": "stdout",
     "output_type": "stream",
     "text": [
      "tensor(0.8000, requires_grad=True) tensor(19., grad_fn=<AddBackward0>)\n",
      "tensor(1.4400, requires_grad=True) tensor(13.2400, grad_fn=<AddBackward0>)\n",
      "tensor(1.9520, requires_grad=True) tensor(9.5536, grad_fn=<AddBackward0>)\n",
      "tensor(2.3616, requires_grad=True) tensor(7.1943, grad_fn=<AddBackward0>)\n",
      "tensor(2.6893, requires_grad=True) tensor(5.6844, grad_fn=<AddBackward0>)\n",
      "tensor(2.9514, requires_grad=True) tensor(4.7180, grad_fn=<AddBackward0>)\n",
      "tensor(3.1611, requires_grad=True) tensor(4.0995, grad_fn=<AddBackward0>)\n",
      "tensor(3.3289, requires_grad=True) tensor(3.7037, grad_fn=<AddBackward0>)\n",
      "tensor(3.4631, requires_grad=True) tensor(3.4504, grad_fn=<AddBackward0>)\n",
      "tensor(3.5705, requires_grad=True) tensor(3.2882, grad_fn=<AddBackward0>)\n",
      "tensor(3.6564, requires_grad=True) tensor(3.1845, grad_fn=<AddBackward0>)\n",
      "tensor(3.7251, requires_grad=True) tensor(3.1181, grad_fn=<AddBackward0>)\n",
      "tensor(3.7801, requires_grad=True) tensor(3.0756, grad_fn=<AddBackward0>)\n",
      "tensor(3.8241, requires_grad=True) tensor(3.0484, grad_fn=<AddBackward0>)\n",
      "tensor(3.8593, requires_grad=True) tensor(3.0309, grad_fn=<AddBackward0>)\n",
      "tensor(3.8874, requires_grad=True) tensor(3.0198, grad_fn=<AddBackward0>)\n",
      "tensor(3.9099, requires_grad=True) tensor(3.0127, grad_fn=<AddBackward0>)\n",
      "tensor(3.9279, requires_grad=True) tensor(3.0081, grad_fn=<AddBackward0>)\n",
      "tensor(3.9424, requires_grad=True) tensor(3.0052, grad_fn=<AddBackward0>)\n",
      "tensor(3.9539, requires_grad=True) tensor(3.0033, grad_fn=<AddBackward0>)\n",
      "tensor(3.9631, requires_grad=True) tensor(3.0021, grad_fn=<AddBackward0>)\n",
      "tensor(3.9705, requires_grad=True) tensor(3.0014, grad_fn=<AddBackward0>)\n",
      "tensor(3.9764, requires_grad=True) tensor(3.0009, grad_fn=<AddBackward0>)\n",
      "tensor(3.9811, requires_grad=True) tensor(3.0006, grad_fn=<AddBackward0>)\n",
      "tensor(3.9849, requires_grad=True) tensor(3.0004, grad_fn=<AddBackward0>)\n",
      "tensor(3.9879, requires_grad=True) tensor(3.0002, grad_fn=<AddBackward0>)\n",
      "tensor(3.9903, requires_grad=True) tensor(3.0001, grad_fn=<AddBackward0>)\n",
      "tensor(3.9923, requires_grad=True) tensor(3.0001, grad_fn=<AddBackward0>)\n",
      "tensor(3.9938, requires_grad=True) tensor(3.0001, grad_fn=<AddBackward0>)\n",
      "tensor(3.9950, requires_grad=True) tensor(3.0000, grad_fn=<AddBackward0>)\n"
     ]
    }
   ],
   "source": [
    "x = torch.tensor(0.0, requires_grad=True)\n",
    "def f(x):\n",
    "    return x**2 - 8*x + 19\n",
    "optimizer = torch.optim.SGD([x], lr=0.1)\n",
    "for i in range(30):\n",
    "    optimizer.zero_grad()\n",
    "    y = f(x)\n",
    "    y.backward()\n",
    "    optimizer.step()\n",
    "    print(x, y)\n",
    "    \n"
   ]
  },
  {
   "cell_type": "code",
   "execution_count": 5,
   "id": "c81d2554-b5a2-4588-a748-13685cde892c",
   "metadata": {},
   "outputs": [
    {
     "data": {
      "text/plain": [
       "3.9950480461120605"
      ]
     },
     "execution_count": 5,
     "metadata": {},
     "output_type": "execute_result"
    }
   ],
   "source": [
    "x.item()"
   ]
  },
  {
   "cell_type": "code",
   "execution_count": 6,
   "id": "7533b443-c691-4475-b966-678f86c8a81e",
   "metadata": {},
   "outputs": [
    {
     "data": {
      "text/plain": [
       "[<matplotlib.lines.Line2D at 0x7fc06670abe0>]"
      ]
     },
     "execution_count": 6,
     "metadata": {},
     "output_type": "execute_result"
    },
    {
     "data": {
      "image/png": "[encoded data removed]",
      "text/plain": [
       "<Figure size 1080x576 with 1 Axes>"
      ]
     },
     "metadata": {},
     "output_type": "display_data"
    }
   ],
   "source": [
    "x_plot = torch.arange(-1, 9, 0.01)\n",
    "plt.plot(x_plot, f(x_plot))"
   ]
  },
  {
   "cell_type": "markdown",
   "id": "696760dd-a13b-40ce-8f4c-429374594ae7",
   "metadata": {},
   "source": [
    "## Part 4: Linear Regression"
   ]
  },
  {
   "cell_type": "code",
   "execution_count": 7,
   "id": "e984d678-a376-4da7-8b8e-e2f1ed4b53c0",
   "metadata": {},
   "outputs": [
    {
     "name": "stdout",
     "output_type": "stream",
     "text": [
      "Training took 2.7801902294158936 seconds\n"
     ]
    }
   ],
   "source": [
    "trainX = trainX.type(torch.float32)\n",
    "trainY = trainY.type(torch.float32)\n",
    "testX = testX.type(torch.float32)\n",
    "testY = testY.type(torch.float32)\n",
    "\n",
    "ds = torch.utils.data.TensorDataset(trainX, trainY)\n",
    "dl = torch.utils.data.DataLoader(ds, batch_size = 40, shuffle=True)\n",
    "model = torch.nn.Linear(10, 1)\n",
    "optimizer = torch.optim.SGD([model.weight, model.bias], lr=0.000001)\n",
    "loss_function = torch.nn.MSELoss()\n",
    "\n",
    "start = time.time()\n",
    "for epoch in range(200):\n",
    "    for batchX, batchY in dl:\n",
    "        predY = model(batchX)\n",
    "        loss = loss_function(batchY, predY)\n",
    "        loss.backward()\n",
    "        optimizer.step()\n",
    "        optimizer.zero_grad()\n",
    "end = time.time()\n",
    "print(\"Training took\", end-start, \"seconds\")"
   ]
  },
  {
   "cell_type": "code",
   "execution_count": 8,
   "id": "db3ea7d6-ce61-40c6-846c-13b194a0970d",
   "metadata": {},
   "outputs": [
    {
     "data": {
      "text/plain": [
       "0.5577235817909241"
      ]
     },
     "execution_count": 8,
     "metadata": {},
     "output_type": "execute_result"
    }
   ],
   "source": [
    "r2_score(testY, model(testX))"
   ]
  },
  {
   "cell_type": "code",
   "execution_count": 9,
   "id": "ed356293-1d52-44e7-9ec8-2abc825b4d6d",
   "metadata": {},
   "outputs": [
    {
     "data": {
      "text/plain": [
       "<BarContainer object of 10 artists>"
      ]
     },
     "execution_count": 9,
     "metadata": {},
     "output_type": "execute_result"
    },
    {
     "data": {
      "image/png": "[encoded data removed]",
      "text/plain": [
       "<Figure size 1080x576 with 1 Axes>"
      ]
     },
     "metadata": {},
     "output_type": "display_data"
    }
   ],
   "source": [
    "plt.bar(train.columns[:-1],height=model.weight.detach()[0].numpy())"
   ]
  }
 ],
 "metadata": {
  "kernelspec": {
   "display_name": "Python 3",
   "language": "python",
   "name": "python3"
  },
  "language_info": {
   "codemirror_mode": {
    "name": "ipython",
    "version": 3
   },
   "file_extension": ".py",
   "mimetype": "text/x-python",
   "name": "python",
   "nbconvert_exporter": "python",
   "pygments_lexer": "ipython3",
   "version": "3.6.9"
  }
 },
 "nbformat": 4,
 "nbformat_minor": 5
}
